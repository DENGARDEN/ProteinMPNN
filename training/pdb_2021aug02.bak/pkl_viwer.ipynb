{
 "cells": [
  {
   "cell_type": "code",
   "execution_count": 1,
   "metadata": {},
   "outputs": [
    {
     "name": "stderr",
     "output_type": "stream",
     "text": [
      "/home/dengarden/anaconda3/envs/mlfold_v3.9/lib/python3.9/site-packages/tqdm/auto.py:22: TqdmWarning: IProgress not found. Please update jupyter and ipywidgets. See https://ipywidgets.readthedocs.io/en/stable/user_install.html\n",
      "  from .autonotebook import tqdm as notebook_tqdm\n"
     ]
    }
   ],
   "source": [
    "import torch\n",
    "import pickle"
   ]
  },
  {
   "cell_type": "code",
   "execution_count": 2,
   "metadata": {},
   "outputs": [],
   "source": [
    "PDBID = \"./1l3a.pt\"\n",
    "PDBID_CHAINID = \"./1l3a_A.pt\""
   ]
  },
  {
   "cell_type": "code",
   "execution_count": 3,
   "metadata": {},
   "outputs": [],
   "source": [
    "#metadata\n",
    "meta = torch.load(PDBID)\n",
    "chain = torch.load(PDBID_CHAINID)"
   ]
  },
  {
   "cell_type": "code",
   "execution_count": 4,
   "metadata": {},
   "outputs": [
    {
     "data": {
      "text/plain": [
       "{'method': 'X-RAY_DIFFRACTION',\n",
       " 'date': '2002-02-26',\n",
       " 'resolution': 2.3,\n",
       " 'chains': ['A', 'B', 'C', 'D'],\n",
       " 'seq': [['MASMTGGQQMGRGSDYFEPQQQQQQQQQQPQGASTPKVFVGYSIYKGKAALTVEPRSPEFSPLDSGAFKLSREGMVMLQFAPAAGVRQYDWSRKQVFSLSVTEIGSIISLGTKDSCEFFHDPNKGRSDEGRVRKVLKVEPLPDGSGHFFNLSVQNKLINLDENIYIPVTKAEFAVLVSAFNFVMPYLLGWHTAVNSFKPEDASRSNNANPRSGAELEWNLEHHHHHH',\n",
       "   '----------------------------------TPKVFVGYSIYKGKAALTVEPRSPEFSPLDSGAFKLSREGMVMLQFAPAAGVRQYDWSRKQVFSLSVTEIGSIISLGTKDSCEFFHDPNKGRSDEGRVRKVLKVEPLPDGSGHFFNLSVQNKLINLDENIYIPVTKAEFAVLVSAFNFVMPYLLGWHTAVNSFKPE---------------------------'],\n",
       "  ['MASMTGGQQMGRGSDYFEPQQQQQQQQQQPQGASTPKVFVGYSIYKGKAALTVEPRSPEFSPLDSGAFKLSREGMVMLQFAPAAGVRQYDWSRKQVFSLSVTEIGSIISLGTKDSCEFFHDPNKGRSDEGRVRKVLKVEPLPDGSGHFFNLSVQNKLINLDENIYIPVTKAEFAVLVSAFNFVMPYLLGWHTAVNSFKPEDASRSNNANPRSGAELEWNLEHHHHHH',\n",
       "   '----------------------------------TPKVFVGYSIYKGKAALTVEPRSPEFSPLDSGAFKLSREGMVMLQFAPAAGVRQYDWSRKQVFSLSVTEIGSIISLGTKDSCEFFHDPNKGRSDEGRVRKVLKVEPLPDGSGHFFNLSVQNKLINLDENIYIPVTKAEFAVLVSAFNFVMPYLLGWHTAVNSFKPE-------------AELE----------'],\n",
       "  ['MASMTGGQQMGRGSDYFEPQQQQQQQQQQPQGASTPKVFVGYSIYKGKAALTVEPRSPEFSPLDSGAFKLSREGMVMLQFAPAAGVRQYDWSRKQVFSLSVTEIGSIISLGTKDSCEFFHDPNKGRSDEGRVRKVLKVEPLPDGSGHFFNLSVQNKLINLDENIYIPVTKAEFAVLVSAFNFVMPYLLGWHTAVNSFKPEDASRSNNANPRSGAELEWNLEHHHHHH',\n",
       "   '----------------------------------TPKVFVGYSIYKGKAALTVEPRSPEFSPLDSGAFKLSREGMVMLQFAPAAGVRQYDWSRKQVFSLSVTEIGSIISLGTKDSCEFFHDPNKGRSDEGRVRKVLKVEPLPDGSGHFFNLSVQNKLINLDENIYIPVTKAEFAVLVSAFNFVMPYLLGWHTAVNSFKPE-----------SGAELEWNLEHHHHHH'],\n",
       "  ['MASMTGGQQMGRGSDYFEPQQQQQQQQQQPQGASTPKVFVGYSIYKGKAALTVEPRSPEFSPLDSGAFKLSREGMVMLQFAPAAGVRQYDWSRKQVFSLSVTEIGSIISLGTKDSCEFFHDPNKGRSDEGRVRKVLKVEPLPDGSGHFFNLSVQNKLINLDENIYIPVTKAEFAVLVSAFNFVMPYLLGWHTAVNSFKPEDASRSNNANPRSGAELEWNLEHHHHHH',\n",
       "   '----------------------------------TPKVFVGYSIYKGKAALTVEPRSPEFSPLDSGAFKLSREGMVMLQFAPAAGVRQYDWSRKQVFSLSVTEIGSIISLGTKDSCEFFHDPNKGRSDEGRVRKVLKVEPLPDGSGHFFNLSVQNKLINLDENIYIPVTKAEFAVLVSAFNFVMPYLLGWHTAVNSFKPE------------GAELE----------']],\n",
       " 'id': '1L3A',\n",
       " 'asmb_chains': ['A,B,C,D,E,F,G,H'],\n",
       " 'asmb_details': ['author_and_software_defined_assembly'],\n",
       " 'asmb_method': ['PISA'],\n",
       " 'asmb_ids': ['1'],\n",
       " 'asmb_xform0': tensor([[[1., 0., 0., 0.],\n",
       "          [0., 1., 0., 0.],\n",
       "          [0., 0., 1., 0.],\n",
       "          [0., 0., 0., 1.]]]),\n",
       " 'tm': tensor([[[1.0000, 1.0000, 0.0000],\n",
       "          [0.9681, 1.0000, 0.9700],\n",
       "          [0.9778, 1.0000, 0.7900],\n",
       "          [0.9778, 1.0000, 0.8200]],\n",
       " \n",
       "         [[0.9459, 1.0000, 0.9700],\n",
       "          [1.0000, 1.0000, 0.0000],\n",
       "          [0.9646, 0.9940, 1.1000],\n",
       "          [0.9680, 0.9820, 1.0100]],\n",
       " \n",
       "         [[0.8933, 1.0000, 0.7900],\n",
       "          [0.9026, 0.9940, 1.1000],\n",
       "          [1.0000, 1.0000, 0.0000],\n",
       "          [0.9069, 0.9710, 1.2300]],\n",
       " \n",
       "         [[0.9497, 1.0000, 0.8200],\n",
       "          [0.9625, 0.9820, 1.0100],\n",
       "          [0.9639, 0.9710, 1.2300],\n",
       "          [1.0000, 1.0000, 0.0000]]])}"
      ]
     },
     "execution_count": 4,
     "metadata": {},
     "output_type": "execute_result"
    }
   ],
   "source": [
    "meta"
   ]
  },
  {
   "cell_type": "code",
   "execution_count": 5,
   "metadata": {},
   "outputs": [
    {
     "data": {
      "text/plain": [
       "{'seq': 'MASMTGGQQMGRGSDYFEPQQQQQQQQQQPQGASTPKVFVGYSIYKGKAALTVEPRSPEFSPLDSGAFKLSREGMVMLQFAPAAGVRQYDWSRKQVFSLSVTEIGSIISLGTKDSCEFFHDPNKGRSDEGRVRKVLKVEPLPDGSGHFFNLSVQNKLINLDENIYIPVTKAEFAVLVSAFNFVMPYLLGWHTAVNSFKPEDASRSNNANPRSGAELEWNLEHHHHHH',\n",
       " 'xyz': tensor([[[nan, nan, nan],\n",
       "          [nan, nan, nan],\n",
       "          [nan, nan, nan],\n",
       "          ...,\n",
       "          [nan, nan, nan],\n",
       "          [nan, nan, nan],\n",
       "          [nan, nan, nan]],\n",
       " \n",
       "         [[nan, nan, nan],\n",
       "          [nan, nan, nan],\n",
       "          [nan, nan, nan],\n",
       "          ...,\n",
       "          [nan, nan, nan],\n",
       "          [nan, nan, nan],\n",
       "          [nan, nan, nan]],\n",
       " \n",
       "         [[nan, nan, nan],\n",
       "          [nan, nan, nan],\n",
       "          [nan, nan, nan],\n",
       "          ...,\n",
       "          [nan, nan, nan],\n",
       "          [nan, nan, nan],\n",
       "          [nan, nan, nan]],\n",
       " \n",
       "         ...,\n",
       " \n",
       "         [[nan, nan, nan],\n",
       "          [nan, nan, nan],\n",
       "          [nan, nan, nan],\n",
       "          ...,\n",
       "          [nan, nan, nan],\n",
       "          [nan, nan, nan],\n",
       "          [nan, nan, nan]],\n",
       " \n",
       "         [[nan, nan, nan],\n",
       "          [nan, nan, nan],\n",
       "          [nan, nan, nan],\n",
       "          ...,\n",
       "          [nan, nan, nan],\n",
       "          [nan, nan, nan],\n",
       "          [nan, nan, nan]],\n",
       " \n",
       "         [[nan, nan, nan],\n",
       "          [nan, nan, nan],\n",
       "          [nan, nan, nan],\n",
       "          ...,\n",
       "          [nan, nan, nan],\n",
       "          [nan, nan, nan],\n",
       "          [nan, nan, nan]]]),\n",
       " 'mask': tensor([[0., 0., 0.,  ..., 0., 0., 0.],\n",
       "         [0., 0., 0.,  ..., 0., 0., 0.],\n",
       "         [0., 0., 0.,  ..., 0., 0., 0.],\n",
       "         ...,\n",
       "         [0., 0., 0.,  ..., 0., 0., 0.],\n",
       "         [0., 0., 0.,  ..., 0., 0., 0.],\n",
       "         [0., 0., 0.,  ..., 0., 0., 0.]]),\n",
       " 'bfac': tensor([[nan, nan, nan,  ..., nan, nan, nan],\n",
       "         [nan, nan, nan,  ..., nan, nan, nan],\n",
       "         [nan, nan, nan,  ..., nan, nan, nan],\n",
       "         ...,\n",
       "         [nan, nan, nan,  ..., nan, nan, nan],\n",
       "         [nan, nan, nan,  ..., nan, nan, nan],\n",
       "         [nan, nan, nan,  ..., nan, nan, nan]]),\n",
       " 'occ': tensor([[0., 0., 0.,  ..., 0., 0., 0.],\n",
       "         [0., 0., 0.,  ..., 0., 0., 0.],\n",
       "         [0., 0., 0.,  ..., 0., 0., 0.],\n",
       "         ...,\n",
       "         [0., 0., 0.,  ..., 0., 0., 0.],\n",
       "         [0., 0., 0.,  ..., 0., 0., 0.],\n",
       "         [0., 0., 0.,  ..., 0., 0., 0.]])}"
      ]
     },
     "execution_count": 5,
     "metadata": {},
     "output_type": "execute_result"
    }
   ],
   "source": [
    "chain"
   ]
  },
  {
   "cell_type": "code",
   "execution_count": null,
   "metadata": {},
   "outputs": [],
   "source": []
  }
 ],
 "metadata": {
  "kernelspec": {
   "display_name": "Python 3.9.13 ('mlfold_v3.9')",
   "language": "python",
   "name": "python3"
  },
  "language_info": {
   "codemirror_mode": {
    "name": "ipython",
    "version": 3
   },
   "file_extension": ".py",
   "mimetype": "text/x-python",
   "name": "python",
   "nbconvert_exporter": "python",
   "pygments_lexer": "ipython3",
   "version": "3.9.13"
  },
  "orig_nbformat": 4,
  "vscode": {
   "interpreter": {
    "hash": "a530d8828ec0496431701f61e0d8336661164f27400847d52d48a4da018049d6"
   }
  }
 },
 "nbformat": 4,
 "nbformat_minor": 2
}
